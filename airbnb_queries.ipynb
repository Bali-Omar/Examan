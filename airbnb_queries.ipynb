{
 "cells": [
  {
   "cell_type": "code",
   "execution_count": 1,
   "id": "4dbd5b8d-318b-4fe4-82b4-44f79face51e",
   "metadata": {},
   "outputs": [
    {
     "name": "stdout",
     "output_type": "stream",
     "text": [
      "Ping -> True\n"
     ]
    }
   ],
   "source": [
    "!pip install redis -q      # s’exécute une seule fois\n",
    "\n",
    "import redis, json, pprint\n",
    "r = redis.Redis(host='airbnb-redis', port=6379, decode_responses=True)\n",
    "print(\"Ping ->\", r.ping())"
   ]
  },
  {
   "cell_type": "code",
   "execution_count": 2,
   "id": "d451f6ea-0ca8-45fc-a6b1-c085c7cd5da9",
   "metadata": {},
   "outputs": [
    {
     "name": "stdout",
     "output_type": "stream",
     "text": [
      "Counter({'unknown': 92411})\n"
     ]
    }
   ],
   "source": [
    "from collections import Counter\n",
    "prop_counter = Counter()\n",
    "\n",
    "for key in r.scan_iter('movie:*'):\n",
    "    prop = r.hget(key, 'genre') or 'unknown'\n",
    "    prop_counter[prop] += 1\n",
    "\n",
    "pprint.pprint(prop_counter)"
   ]
  },
  {
   "cell_type": "code",
   "execution_count": 3,
   "id": "3fe7572e-a01a-4ccd-8e3b-792ef23eb3c4",
   "metadata": {},
   "outputs": [
    {
     "name": "stdout",
     "output_type": "stream",
     "text": [
      "Listings 12/06/2024 à Paris : 0\n"
     ]
    }
   ],
   "source": [
    "count = 0\n",
    "for key in r.scan_iter('movie:*'):\n",
    "    if r.hget(key, 'release_year') == '2024-06-12' and r.hget(key, 'neighbourhood') == 'Paris':\n",
    "        count += 1\n",
    "print(\"Listings 12/06/2024 à Paris :\", count)"
   ]
  },
  {
   "cell_type": "code",
   "execution_count": 4,
   "id": "94d4c38e-74e9-44c3-a660-5992b804fee0",
   "metadata": {},
   "outputs": [
    {
     "ename": "TypeError",
     "evalue": "int() argument must be a string, a bytes-like object or a real number, not 'NoneType'",
     "output_type": "error",
     "traceback": [
      "\u001b[0;31m---------------------------------------------------------------------------\u001b[0m",
      "\u001b[0;31mTypeError\u001b[0m                                 Traceback (most recent call last)",
      "Cell \u001b[0;32mIn[4], line 1\u001b[0m\n\u001b[0;32m----> 1\u001b[0m top \u001b[38;5;241m=\u001b[39m \u001b[38;5;28;43msorted\u001b[39;49m\u001b[43m(\u001b[49m\n\u001b[1;32m      2\u001b[0m \u001b[43m    \u001b[49m\u001b[43m(\u001b[49m\u001b[43m(\u001b[49m\u001b[38;5;28;43mint\u001b[39;49m\u001b[43m(\u001b[49m\u001b[43mr\u001b[49m\u001b[38;5;241;43m.\u001b[39;49m\u001b[43mhget\u001b[49m\u001b[43m(\u001b[49m\u001b[43mk\u001b[49m\u001b[43m,\u001b[49m\u001b[43m \u001b[49m\u001b[38;5;124;43m'\u001b[39;49m\u001b[38;5;124;43mvotes\u001b[39;49m\u001b[38;5;124;43m'\u001b[39;49m\u001b[43m)\u001b[49m\u001b[43m)\u001b[49m\u001b[43m,\u001b[49m\u001b[43m \u001b[49m\u001b[43mk\u001b[49m\u001b[43m)\u001b[49m\u001b[43m \u001b[49m\u001b[38;5;28;43;01mfor\u001b[39;49;00m\u001b[43m \u001b[49m\u001b[43mk\u001b[49m\u001b[43m \u001b[49m\u001b[38;5;129;43;01min\u001b[39;49;00m\u001b[43m \u001b[49m\u001b[43mr\u001b[49m\u001b[38;5;241;43m.\u001b[39;49m\u001b[43mscan_iter\u001b[49m\u001b[43m(\u001b[49m\u001b[38;5;124;43m'\u001b[39;49m\u001b[38;5;124;43mmovie:*\u001b[39;49m\u001b[38;5;124;43m'\u001b[39;49m\u001b[43m)\u001b[49m\u001b[43m)\u001b[49m\u001b[43m,\u001b[49m\n\u001b[1;32m      3\u001b[0m \u001b[43m    \u001b[49m\u001b[43mreverse\u001b[49m\u001b[38;5;241;43m=\u001b[39;49m\u001b[38;5;28;43;01mTrue\u001b[39;49;00m\n\u001b[1;32m      4\u001b[0m \u001b[43m)\u001b[49m[:\u001b[38;5;241m5\u001b[39m]\n\u001b[1;32m      6\u001b[0m \u001b[38;5;28;01mfor\u001b[39;00m votes, key \u001b[38;5;129;01min\u001b[39;00m top:\n\u001b[1;32m      7\u001b[0m     \u001b[38;5;28mprint\u001b[39m(key, votes)\n",
      "Cell \u001b[0;32mIn[4], line 2\u001b[0m, in \u001b[0;36m<genexpr>\u001b[0;34m(.0)\u001b[0m\n\u001b[1;32m      1\u001b[0m top \u001b[38;5;241m=\u001b[39m \u001b[38;5;28msorted\u001b[39m(\n\u001b[0;32m----> 2\u001b[0m     ((\u001b[38;5;28;43mint\u001b[39;49m\u001b[43m(\u001b[49m\u001b[43mr\u001b[49m\u001b[38;5;241;43m.\u001b[39;49m\u001b[43mhget\u001b[49m\u001b[43m(\u001b[49m\u001b[43mk\u001b[49m\u001b[43m,\u001b[49m\u001b[43m \u001b[49m\u001b[38;5;124;43m'\u001b[39;49m\u001b[38;5;124;43mvotes\u001b[39;49m\u001b[38;5;124;43m'\u001b[39;49m\u001b[43m)\u001b[49m\u001b[43m)\u001b[49m, k) \u001b[38;5;28;01mfor\u001b[39;00m k \u001b[38;5;129;01min\u001b[39;00m r\u001b[38;5;241m.\u001b[39mscan_iter(\u001b[38;5;124m'\u001b[39m\u001b[38;5;124mmovie:*\u001b[39m\u001b[38;5;124m'\u001b[39m)),\n\u001b[1;32m      3\u001b[0m     reverse\u001b[38;5;241m=\u001b[39m\u001b[38;5;28;01mTrue\u001b[39;00m\n\u001b[1;32m      4\u001b[0m )[:\u001b[38;5;241m5\u001b[39m]\n\u001b[1;32m      6\u001b[0m \u001b[38;5;28;01mfor\u001b[39;00m votes, key \u001b[38;5;129;01min\u001b[39;00m top:\n\u001b[1;32m      7\u001b[0m     \u001b[38;5;28mprint\u001b[39m(key, votes)\n",
      "\u001b[0;31mTypeError\u001b[0m: int() argument must be a string, a bytes-like object or a real number, not 'NoneType'"
     ]
    }
   ],
   "source": [
    "top = sorted(\n",
    "    ((int(r.hget(k, 'votes')), k) for k in r.scan_iter('movie:*')),\n",
    "    reverse=True\n",
    ")[:5]\n",
    "\n",
    "for votes, key in top:\n",
    "    print(key, votes)"
   ]
  },
  {
   "cell_type": "code",
   "execution_count": 5,
   "id": "0125e57e-9ed9-4170-bcd2-1483b6b534a6",
   "metadata": {},
   "outputs": [
    {
     "name": "stdout",
     "output_type": "stream",
     "text": [
      "Hôtes uniques : 69560\n"
     ]
    }
   ],
   "source": [
    "host_ids = {r.hget(k, 'host_id') for k in r.scan_iter('movie:*')}\n",
    "print(\"Hôtes uniques :\", len(host_ids))"
   ]
  },
  {
   "cell_type": "code",
   "execution_count": 6,
   "id": "488ae0df-71aa-49f2-ba9d-cc4731175144",
   "metadata": {},
   "outputs": [
    {
     "name": "stdout",
     "output_type": "stream",
     "text": [
      "Instant bookable : 0\n",
      "Proportion : 0.00%\n"
     ]
    }
   ],
   "source": [
    "total = 0\n",
    "instant = 0\n",
    "\n",
    "for k in r.scan_iter('movie:*'):\n",
    "    total += 1\n",
    "    if r.hget(k, 'instant_bookable') == 'True':\n",
    "        instant += 1\n",
    "\n",
    "print(\"Instant bookable :\", instant)\n",
    "print(\"Proportion : {:.2%}\".format(instant/total))"
   ]
  },
  {
   "cell_type": "code",
   "execution_count": 7,
   "id": "1787c5bc-ad0c-4376-bc85-d4cc962567ff",
   "metadata": {},
   "outputs": [
    {
     "name": "stdout",
     "output_type": "stream",
     "text": [
      "{'440295601': 131, '50502817': 421, '374552379': 102, '33889201': 497, '512746089': 102, '499962530': 103, '314994947': 730, '26981054': 274, '51567288': 149, '21630783': 102, '50978178': 182, '506389460': 109, '28313443': 119, '125797498': 170, '436103373': 209, '1112584': 140, '335998296': 147, '517515174': 122, '460047164': 222, '564251645': 136, '528015349': 189, '99040006': 109, '7642792': 201, '24495283': 109}\n",
      "Ils représentent 0.03% des hôtes\n"
     ]
    }
   ],
   "source": [
    "from collections import Counter\n",
    "host_counter = Counter()\n",
    "\n",
    "for k in r.scan_iter('movie:*'):\n",
    "    host_counter[r.hget(k, 'host_id')] += 1\n",
    "\n",
    "big_hosts = {h:c for h,c in host_counter.items() if c > 100}\n",
    "print(big_hosts)\n",
    "print(\"Ils représentent {:.2%} des hôtes\".format(len(big_hosts)/len(host_counter)))"
   ]
  },
  {
   "cell_type": "code",
   "execution_count": 8,
   "id": "af83aeae-b8fc-42e7-a122-7111776fcef2",
   "metadata": {},
   "outputs": [
    {
     "name": "stdout",
     "output_type": "stream",
     "text": [
      "Superhosts uniques : 11\n",
      "Pourcentage : 0.02%\n"
     ]
    }
   ],
   "source": [
    "superhosts = {h for h in r.scan_iter('actor:*') if r.hget(h, 'about').lower().find('superhost') != -1}\n",
    "print(\"Superhosts uniques :\", len(superhosts))\n",
    "print(\"Pourcentage : {:.2%}\".format(len(superhosts)/len(host_counter)))"
   ]
  },
  {
   "cell_type": "code",
   "execution_count": null,
   "id": "78535950-7557-43b4-b16f-e85fd4518c86",
   "metadata": {},
   "outputs": [],
   "source": []
  }
 ],
 "metadata": {
  "kernelspec": {
   "display_name": "Python 3 (ipykernel)",
   "language": "python",
   "name": "python3"
  },
  "language_info": {
   "codemirror_mode": {
    "name": "ipython",
    "version": 3
   },
   "file_extension": ".py",
   "mimetype": "text/x-python",
   "name": "python",
   "nbconvert_exporter": "python",
   "pygments_lexer": "ipython3",
   "version": "3.11.6"
  }
 },
 "nbformat": 4,
 "nbformat_minor": 5
}
